{
  "nbformat": 4,
  "nbformat_minor": 0,
  "metadata": {
    "colab": {
      "provenance": [],
      "authorship_tag": "ABX9TyNGZFPDpFJVKjtMDWn7G+8+",
      "include_colab_link": true
    },
    "kernelspec": {
      "name": "python3",
      "display_name": "Python 3"
    },
    "language_info": {
      "name": "python"
    }
  },
  "cells": [
    {
      "cell_type": "markdown",
      "metadata": {
        "id": "view-in-github",
        "colab_type": "text"
      },
      "source": [
        "<a href=\"https://colab.research.google.com/github/shahrishi501/Synapse-Tasks/blob/main/Synapse.ipynb\" target=\"_parent\"><img src=\"https://colab.research.google.com/assets/colab-badge.svg\" alt=\"Open In Colab\"/></a>"
      ]
    },
    {
      "cell_type": "markdown",
      "source": [
        "Task 1"
      ],
      "metadata": {
        "id": "xcqbngxCmn22"
      }
    },
    {
      "cell_type": "code",
      "source": [
        "jumbled_superheroes = [\"DocToR_sTRAngE\", \"sPidERmaN\", \"MoON_KnigHT\", \"caPTAIN_aMERIca\", \"hULK\"]\n",
        "indices = []\n",
        "decoded_names = []\n",
        "\n",
        "for index, name in enumerate(jumbled_superheroes):\n",
        "    indices.append(index)\n",
        "    space = name.lower().replace(\"_\", \" \")\n",
        "    decoded_names.append(space)\n",
        "\n",
        "print(decoded_names)"
      ],
      "metadata": {
        "colab": {
          "base_uri": "https://localhost:8080/"
        },
        "id": "KaMxoAaxk7wo",
        "outputId": "7d55d8f8-ec05-41ce-fb61-d2ee82b05622"
      },
      "execution_count": 1,
      "outputs": [
        {
          "output_type": "stream",
          "name": "stdout",
          "text": [
            "['doctor strange', 'spiderman', 'moon knight', 'captain america', 'hulk']\n"
          ]
        }
      ]
    },
    {
      "cell_type": "code",
      "source": [
        "length_calculator = lambda x: len(x)\n",
        "\n",
        "name_lengths = list(map(length_calculator, decoded_names))\n"
      ],
      "metadata": {
        "id": "7gi3GsqVlA08"
      },
      "execution_count": 2,
      "outputs": []
    },
    {
      "cell_type": "code",
      "source": [
        "indices.sort(key=lambda i: name_lengths[i])\n"
      ],
      "metadata": {
        "id": "u76UEh0wlRx0"
      },
      "execution_count": 3,
      "outputs": []
    },
    {
      "cell_type": "code",
      "source": [
        "sorted_guest_list = [decoded_names[i].title() for i in indices]\n",
        "\n",
        "for i, superhero in enumerate(sorted_guest_list, start=1):\n",
        "    print(f\"{i}. {superhero}\")\n"
      ],
      "metadata": {
        "colab": {
          "base_uri": "https://localhost:8080/"
        },
        "id": "h7eO8AoglUZ0",
        "outputId": "906d76ae-45eb-4add-b888-7133aeddbe56"
      },
      "execution_count": 4,
      "outputs": [
        {
          "output_type": "stream",
          "name": "stdout",
          "text": [
            "1. Hulk\n",
            "2. Spiderman\n",
            "3. Moon Knight\n",
            "4. Doctor Strange\n",
            "5. Captain America\n"
          ]
        }
      ]
    },
    {
      "cell_type": "markdown",
      "source": [
        "Task 1.2\n"
      ],
      "metadata": {
        "id": "aLWaNcOOo43m"
      }
    },
    {
      "cell_type": "code",
      "source": [
        "lst = ['0001', '0011', '0101', '1011']\n",
        "new_lst = []\n",
        "for i in lst:\n",
        "  new_lst.append(int(i,2))\n",
        "print(new_lst)\n"
      ],
      "metadata": {
        "colab": {
          "base_uri": "https://localhost:8080/"
        },
        "id": "UdQgcXCEo7Zh",
        "outputId": "e8543eee-4a17-49d5-9d88-4be92096b962"
      },
      "execution_count": 5,
      "outputs": [
        {
          "output_type": "stream",
          "name": "stdout",
          "text": [
            "[1, 3, 5, 11]\n"
          ]
        }
      ]
    },
    {
      "cell_type": "code",
      "source": [
        "while len(new_lst)>2:\n",
        "\n",
        "  num1 = new_lst.pop(0)\n",
        "  num2 = new_lst.pop(0)\n",
        "  sum = num1 + num2\n",
        "  new_lst.append(sum)\n",
        "print(new_lst)"
      ],
      "metadata": {
        "colab": {
          "base_uri": "https://localhost:8080/"
        },
        "id": "DwUanlHuvvpz",
        "outputId": "d4033c4b-201d-43f5-9319-7d13f88a279c"
      },
      "execution_count": 6,
      "outputs": [
        {
          "output_type": "stream",
          "name": "stdout",
          "text": [
            "[4, 16]\n"
          ]
        }
      ]
    },
    {
      "cell_type": "code",
      "source": [
        "lst1 = ['0001', '0011', '0101', '1011','1101', '1111']\n",
        "new_lst1 = []\n",
        "for i in lst1:\n",
        "  new_lst1.append(int(i,2))\n",
        "print(new_lst1)\n"
      ],
      "metadata": {
        "colab": {
          "base_uri": "https://localhost:8080/"
        },
        "id": "AfQRusqdxI-i",
        "outputId": "21900447-daeb-4b91-e871-38f8eec660a1"
      },
      "execution_count": 7,
      "outputs": [
        {
          "output_type": "stream",
          "name": "stdout",
          "text": [
            "[1, 3, 5, 11, 13, 15]\n"
          ]
        }
      ]
    },
    {
      "cell_type": "code",
      "source": [
        "while len(new_lst1)>2:\n",
        "\n",
        "  num1 = new_lst1.pop(0)\n",
        "  num2 = new_lst1.pop(0)\n",
        "  sum = num1 + num2\n",
        "  new_lst1.append(sum)\n",
        "print(new_lst1)"
      ],
      "metadata": {
        "colab": {
          "base_uri": "https://localhost:8080/"
        },
        "id": "-ZUsF3GSxXfx",
        "outputId": "b2934c2a-4451-4afa-bcdc-b05c94ffd6d8"
      },
      "execution_count": 8,
      "outputs": [
        {
          "output_type": "stream",
          "name": "stdout",
          "text": [
            "[28, 20]\n"
          ]
        }
      ]
    },
    {
      "cell_type": "markdown",
      "source": [
        "Task 1.3\n"
      ],
      "metadata": {
        "id": "Q2Fgh_nzyNt7"
      }
    },
    {
      "cell_type": "code",
      "source": [
        "encoded_lst = [[1,2,3,4,6], [5,7,8,9,15], [12,14,16,18], [10,11,12,13,16,17,18,20]]\n"
      ],
      "metadata": {
        "id": "8s-Wx1kLyPcZ"
      },
      "execution_count": 9,
      "outputs": []
    },
    {
      "cell_type": "markdown",
      "source": [
        "Task 1.4"
      ],
      "metadata": {
        "id": "kFSJKwRal8oL"
      }
    },
    {
      "cell_type": "code",
      "source": [
        "import random\n",
        "\n",
        "class ChessPlayer:\n",
        "  def __init__(self,name,age,elo_rating,tenacity,isBoringFactor):\n",
        "    self.name = name\n",
        "    self.age = age\n",
        "    self.elo_rating = elo_rating\n",
        "    self.tenacity = tenacity\n",
        "    self.isBoringFactor = isBoringFactor\n",
        "    self.tournament_score = 0\n",
        "  def simulateMatch(self,opponent):\n",
        "    elo_difference = abs(self.elo_rating - opponent.elo_rating)\n",
        "    if elo_difference >100:\n",
        "      if self.elo_rating > opponent.elo_rating:\n",
        "        self.tournament_score += 1\n",
        "        return f\"{self.name} wins against {opponent.name}\"\n",
        "      else:\n",
        "        opponent.tournament_score += 1\n",
        "        return f\"{opponent.name} wins against {self.name}\"\n",
        "\n",
        "    elif 50 <= elo_difference <= 100:\n",
        "      lower_elo_player = self if self.elo_rating < opponent.elo_rating else opponent\n",
        "      higher_elo_player = opponent if self.elo_rating < opponent.elo_rating else self\n",
        "\n",
        "      random_factor = random.randint(1,10)\n",
        "      if random_factor * lower_elo_player.tenacity > higher_elo_player.elo_rating:\n",
        "        lower_elo_player.tournament_score += 1\n",
        "        return f\"{lower_elo_player.name} wins against {higher_elo_player.name}\"\n",
        "      else:\n",
        "        higher_elo_player.tournament_score += 1\n",
        "        return f\"{higher_elo_player.name} wins against {lower_elo_player.name}\"\n",
        "\n",
        "    elif elo_difference < 50:\n",
        "      if self.tenacity > opponent.tenacity:\n",
        "        self.tournament_score += 1\n",
        "        return f\"{self.name} wins against {opponent.name}\"\n",
        "      else:\n",
        "        opponent.tournament_score += 1\n",
        "        return f\"{opponent.name} wins against {self.name}\"\n",
        "\n",
        "    elif self.isBoringFactor == True & elo_difference < 100:\n",
        "        self.tournament_score += 0.5\n",
        "        opponent.tournament_score += 0.5\n",
        "        return \"Match ends in draw\"\n",
        "    else:\n",
        "      return \"Null\"\n",
        "  def __str__(self):\n",
        "        return f\"{self.name} (Age: {self.age}, ELO: {self.elo_rating}, Score: {self.tournament_score})\"\n",
        "\n",
        "players = [\n",
        "    ChessPlayer(\"Courage the cowardly dog\", 25, 1000.39, 1000, False),\n",
        "    ChessPlayer(\"Princess Peach\", 23, 945.65, 50, True),\n",
        "    ChessPlayer(\"Walter White\", 50, 1650.73, 750, False),\n",
        "    ChessPlayer(\"Rory Gilmore\", 16, 1700.87, 500, False),\n",
        "    ChessPlayer(\"Anthony Fantano\", 37, 1400.45, 400, True),\n",
        "    ChessPlayer(\"Beth Harmon\", 20, 2500.34, 150, False),\n",
        "]\n",
        "\n",
        "for i in range(len(players)):\n",
        "  for j in range(i + 1, len(players)):\n",
        "    result1 = players[i].simulateMatch(players[j])\n",
        "    result2 = players[j].simulateMatch(players[i])\n",
        "    print(result1)\n",
        "    print(result2)\n",
        "\n",
        "players.sort(key=lambda x:x.tournament_score, reverse = True)\n",
        "\n",
        "winner = players[0]\n",
        "print(f\"\\nWinner of the Tournament: {winner.name} (Score: {winner.tournament_score})\")"
      ],
      "metadata": {
        "colab": {
          "base_uri": "https://localhost:8080/"
        },
        "id": "WVkVQTRwl-PC",
        "outputId": "9b0c6f99-098e-40e7-c7f2-99decf745be1"
      },
      "execution_count": 12,
      "outputs": [
        {
          "output_type": "stream",
          "name": "stdout",
          "text": [
            "Courage the cowardly dog wins against Princess Peach\n",
            "Courage the cowardly dog wins against Princess Peach\n",
            "Walter White wins against Courage the cowardly dog\n",
            "Walter White wins against Courage the cowardly dog\n",
            "Rory Gilmore wins against Courage the cowardly dog\n",
            "Rory Gilmore wins against Courage the cowardly dog\n",
            "Anthony Fantano wins against Courage the cowardly dog\n",
            "Anthony Fantano wins against Courage the cowardly dog\n",
            "Beth Harmon wins against Courage the cowardly dog\n",
            "Beth Harmon wins against Courage the cowardly dog\n",
            "Walter White wins against Princess Peach\n",
            "Walter White wins against Princess Peach\n",
            "Rory Gilmore wins against Princess Peach\n",
            "Rory Gilmore wins against Princess Peach\n",
            "Anthony Fantano wins against Princess Peach\n",
            "Anthony Fantano wins against Princess Peach\n",
            "Beth Harmon wins against Princess Peach\n",
            "Beth Harmon wins against Princess Peach\n",
            "Walter White wins against Rory Gilmore\n",
            "Walter White wins against Rory Gilmore\n",
            "Walter White wins against Anthony Fantano\n",
            "Walter White wins against Anthony Fantano\n",
            "Beth Harmon wins against Walter White\n",
            "Beth Harmon wins against Walter White\n",
            "Rory Gilmore wins against Anthony Fantano\n",
            "Rory Gilmore wins against Anthony Fantano\n",
            "Beth Harmon wins against Rory Gilmore\n",
            "Beth Harmon wins against Rory Gilmore\n",
            "Beth Harmon wins against Anthony Fantano\n",
            "Beth Harmon wins against Anthony Fantano\n",
            "\n",
            "Winner of the Tournament: Beth Harmon (Score: 10)\n"
          ]
        }
      ]
    }
  ]
}