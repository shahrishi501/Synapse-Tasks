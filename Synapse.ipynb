{
  "nbformat": 4,
  "nbformat_minor": 0,
  "metadata": {
    "colab": {
      "provenance": [],
      "authorship_tag": "ABX9TyM5HvQLV5SqBMXO70G7ZB3K",
      "include_colab_link": true
    },
    "kernelspec": {
      "name": "python3",
      "display_name": "Python 3"
    },
    "language_info": {
      "name": "python"
    }
  },
  "cells": [
    {
      "cell_type": "markdown",
      "metadata": {
        "id": "view-in-github",
        "colab_type": "text"
      },
      "source": [
        "<a href=\"https://colab.research.google.com/github/shahrishi501/Synapse-Tasks/blob/main/Synapse.ipynb\" target=\"_parent\"><img src=\"https://colab.research.google.com/assets/colab-badge.svg\" alt=\"Open In Colab\"/></a>"
      ]
    },
    {
      "cell_type": "markdown",
      "source": [
        "Task 1"
      ],
      "metadata": {
        "id": "xcqbngxCmn22"
      }
    },
    {
      "cell_type": "code",
      "source": [
        "jumbled_superheroes = [\"DocToR_sTRAngE\", \"sPidERmaN\", \"MoON_KnigHT\", \"caPTAIN_aMERIca\", \"hULK\"]\n",
        "indices = []\n",
        "decoded_names = []\n",
        "\n",
        "for index, name in enumerate(jumbled_superheroes):\n",
        "    indices.append(index)\n",
        "    space = name.lower().replace(\"_\", \" \")\n",
        "    decoded_names.append(space)\n",
        "\n",
        "print(decoded_names)"
      ],
      "metadata": {
        "colab": {
          "base_uri": "https://localhost:8080/"
        },
        "id": "KaMxoAaxk7wo",
        "outputId": "39940948-11d3-4bb1-930d-7ebeada4dec5"
      },
      "execution_count": null,
      "outputs": [
        {
          "output_type": "stream",
          "name": "stdout",
          "text": [
            "['doctor strange', 'spiderman', 'moon knight', 'captain america', 'hulk']\n"
          ]
        }
      ]
    },
    {
      "cell_type": "code",
      "source": [
        "length_calculator = lambda x: len(x)\n",
        "\n",
        "name_lengths = list(map(length_calculator, decoded_names))\n"
      ],
      "metadata": {
        "id": "7gi3GsqVlA08"
      },
      "execution_count": null,
      "outputs": []
    },
    {
      "cell_type": "code",
      "source": [
        "indices.sort(key=lambda i: name_lengths[i])\n"
      ],
      "metadata": {
        "id": "u76UEh0wlRx0"
      },
      "execution_count": null,
      "outputs": []
    },
    {
      "cell_type": "code",
      "source": [
        "sorted_guest_list = [decoded_names[i].title() for i in indices]\n",
        "\n",
        "for i, superhero in enumerate(sorted_guest_list, start=1):\n",
        "    print(f\"{i}. {superhero}\")\n"
      ],
      "metadata": {
        "colab": {
          "base_uri": "https://localhost:8080/"
        },
        "id": "h7eO8AoglUZ0",
        "outputId": "1dc7c242-f6ce-4386-bbad-bfe788239bc5"
      },
      "execution_count": null,
      "outputs": [
        {
          "output_type": "stream",
          "name": "stdout",
          "text": [
            "1. Hulk\n",
            "2. Spiderman\n",
            "3. Moon Knight\n",
            "4. Doctor Strange\n",
            "5. Captain America\n"
          ]
        }
      ]
    },
    {
      "cell_type": "markdown",
      "source": [
        "Task 1.2\n"
      ],
      "metadata": {
        "id": "aLWaNcOOo43m"
      }
    },
    {
      "cell_type": "code",
      "source": [
        "lst = ['0001', '0011', '0101', '1011']\n",
        "new_lst = []\n",
        "for i in lst:\n",
        "  new_lst.append(int(i,2))\n",
        "print(new_lst)\n"
      ],
      "metadata": {
        "colab": {
          "base_uri": "https://localhost:8080/"
        },
        "id": "UdQgcXCEo7Zh",
        "outputId": "3dc4bd3a-5728-43ad-898d-e56ca30a494f"
      },
      "execution_count": null,
      "outputs": [
        {
          "output_type": "stream",
          "name": "stdout",
          "text": [
            "[1, 3, 5, 11]\n"
          ]
        }
      ]
    },
    {
      "cell_type": "code",
      "source": [
        "while len(new_lst)>2:\n",
        "\n",
        "  num1 = new_lst.pop(0)\n",
        "  num2 = new_lst.pop(0)\n",
        "  sum = num1 + num2\n",
        "  new_lst.append(sum)\n",
        "print(new_lst)"
      ],
      "metadata": {
        "colab": {
          "base_uri": "https://localhost:8080/"
        },
        "id": "DwUanlHuvvpz",
        "outputId": "65a0789c-f07d-4ea7-cca6-e80587505ea7"
      },
      "execution_count": null,
      "outputs": [
        {
          "output_type": "stream",
          "name": "stdout",
          "text": [
            "[6, 14]\n"
          ]
        }
      ]
    },
    {
      "cell_type": "code",
      "source": [
        "lst1 = ['0001', '0011', '0101', '1011','1101', '1111']\n",
        "new_lst1 = []\n",
        "for i in lst1:\n",
        "  new_lst1.append(int(i,2))\n",
        "print(new_lst1)\n"
      ],
      "metadata": {
        "colab": {
          "base_uri": "https://localhost:8080/"
        },
        "id": "AfQRusqdxI-i",
        "outputId": "af1ec3c0-687a-4386-ee97-0fbc04e7955c"
      },
      "execution_count": null,
      "outputs": [
        {
          "output_type": "stream",
          "name": "stdout",
          "text": [
            "[1, 3, 5, 11, 13, 15]\n"
          ]
        }
      ]
    },
    {
      "cell_type": "code",
      "source": [
        "while len(new_lst1)>2:\n",
        "\n",
        "  num1 = new_lst1.pop(0)\n",
        "  num2 = new_lst1.pop(0)\n",
        "  sum = num1 + num2\n",
        "  new_lst1.append(sum)\n",
        "print(new_lst1)"
      ],
      "metadata": {
        "colab": {
          "base_uri": "https://localhost:8080/"
        },
        "id": "-ZUsF3GSxXfx",
        "outputId": "70390f7a-11e8-4401-986e-be9e341d1dd4"
      },
      "execution_count": null,
      "outputs": [
        {
          "output_type": "stream",
          "name": "stdout",
          "text": [
            "[28, 20]\n"
          ]
        }
      ]
    },
    {
      "cell_type": "markdown",
      "source": [
        "Task 1.3\n"
      ],
      "metadata": {
        "id": "Q2Fgh_nzyNt7"
      }
    },
    {
      "cell_type": "code",
      "source": [
        "encoded_lst = [[1,2,3,4,6], [5,7,8,9,15], [12,14,16,18], [10,11,12,13,16,17,18,20]]\n"
      ],
      "metadata": {
        "id": "8s-Wx1kLyPcZ"
      },
      "execution_count": null,
      "outputs": []
    }
  ]
}